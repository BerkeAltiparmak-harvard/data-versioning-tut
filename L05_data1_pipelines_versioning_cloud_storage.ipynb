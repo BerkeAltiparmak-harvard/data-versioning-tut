{
  "nbformat": 4,
  "nbformat_minor": 0,
  "metadata": {
    "colab": {
      "provenance": []
    },
    "kernelspec": {
      "name": "python3",
      "display_name": "Python 3"
    },
    "language_info": {
      "name": "python"
    }
  },
  "cells": [
    {
      "cell_type": "markdown",
      "source": [
        "<h1 style=\"padding-top: 25px;padding-bottom: 25px;text-align: left; padding-left: 10px; background-color: #DDDDDD;\n",
        "    color: black;\"> <img style=\"float: left; padding-right: 10px;\" src=\"https://raw.githubusercontent.com/Harvard-IACS/2018-CS109A/master/content/styles/iacs.png\" height=\"50px\"> <a href='https://harvard-iacs.github.io/2023-AC215/' target='_blank'><strong><font color=\"#A41034\">AC215: Productionizing AI (MLOps)</font></strong></a></h1>\n",
        "\n",
        "# **<font color=\"#A41034\">Tutorial - Data Pipelines, Labeling, Versioning, Cloud Storage</font>**\n",
        "\n",
        "**Harvard University**<br/>\n",
        "**Fall 2024**<br/>\n",
        "**Instructor:**<br/>\n",
        "Pavlos Protopapas\n",
        "\n",
        "<hr style=\"height:2pt\">"
      ],
      "metadata": {
        "id": "YFxW-HdV50Dt"
      }
    },
    {
      "cell_type": "markdown",
      "metadata": {
        "id": "JzLb0a0JhSe6"
      },
      "source": [
        "## **<font color=\"#A41034\">Tutorial Outline</font>**"
      ]
    },
    {
      "cell_type": "markdown",
      "metadata": {
        "id": "47PVQ5tXGUQA"
      },
      "source": [
        "## **Learning Objectives**\n",
        "\n",
        "By the end of this notebook, you will be:\n",
        "* Familiar with data version from a DVC repo\n",
        "\n",
        "\n",
        "## **Tutorial Content**\n",
        "\n",
        "In order to run this tutorial you should have completed [Data Labeling & Versioning](https://github.com/dlops-io/data-labeling) steps.\n",
        "\n",
        "- View data from a remote DVC repo\n",
        "- Retrieve data from a remote DVC repo\n",
        "- Retrieve a specifi data version from DVC\n"
      ]
    },
    {
      "cell_type": "markdown",
      "metadata": {
        "id": "FgY9xWhgGdt8"
      },
      "source": [
        "## **<font color=\"#A41034\">Setup Notebook</font>**"
      ]
    },
    {
      "cell_type": "markdown",
      "metadata": {
        "id": "c-HGo-xOGr2t"
      },
      "source": [
        "**Copy & setup Colab**"
      ]
    },
    {
      "cell_type": "markdown",
      "metadata": {
        "id": "4qfXH3wYGtSa"
      },
      "source": [
        "1) Select \"File\" menu and pick \"Save a copy in Drive\"   "
      ]
    },
    {
      "cell_type": "markdown",
      "metadata": {
        "id": "nDeiSGphB0ST"
      },
      "source": [
        "**Installs**"
      ]
    },
    {
      "cell_type": "code",
      "metadata": {
        "id": "w6Ez0ZcmB1wB",
        "colab": {
          "base_uri": "https://localhost:8080/"
        },
        "outputId": "f284fc0b-638c-4aa7-f426-dbe8f41c9d89"
      },
      "source": [
        "!pip install dvc dvc-gs"
      ],
      "execution_count": 1,
      "outputs": [
        {
          "output_type": "stream",
          "name": "stdout",
          "text": [
            "Requirement already satisfied: dvc in /usr/local/lib/python3.10/dist-packages (3.55.2)\n",
            "Requirement already satisfied: dvc-gs in /usr/local/lib/python3.10/dist-packages (3.0.1)\n",
            "Requirement already satisfied: attrs>=22.2.0 in /usr/local/lib/python3.10/dist-packages (from dvc) (24.2.0)\n",
            "Requirement already satisfied: celery in /usr/local/lib/python3.10/dist-packages (from dvc) (5.4.0)\n",
            "Requirement already satisfied: colorama>=0.3.9 in /usr/local/lib/python3.10/dist-packages (from dvc) (0.4.6)\n",
            "Requirement already satisfied: configobj>=5.0.6 in /usr/local/lib/python3.10/dist-packages (from dvc) (5.0.9)\n",
            "Requirement already satisfied: distro>=1.3 in /usr/lib/python3/dist-packages (from dvc) (1.7.0)\n",
            "Requirement already satisfied: dpath<3,>=2.1.0 in /usr/local/lib/python3.10/dist-packages (from dvc) (2.2.0)\n",
            "Requirement already satisfied: dulwich in /usr/local/lib/python3.10/dist-packages (from dvc) (0.22.3)\n",
            "Requirement already satisfied: dvc-data<3.17,>=3.16.2 in /usr/local/lib/python3.10/dist-packages (from dvc) (3.16.6)\n",
            "Requirement already satisfied: dvc-http>=2.29.0 in /usr/local/lib/python3.10/dist-packages (from dvc) (2.32.0)\n",
            "Requirement already satisfied: dvc-objects in /usr/local/lib/python3.10/dist-packages (from dvc) (5.1.0)\n",
            "Requirement already satisfied: dvc-render<2,>=1.0.1 in /usr/local/lib/python3.10/dist-packages (from dvc) (1.0.2)\n",
            "Requirement already satisfied: dvc-studio-client<1,>=0.21 in /usr/local/lib/python3.10/dist-packages (from dvc) (0.21.0)\n",
            "Requirement already satisfied: dvc-task<1,>=0.3.0 in /usr/local/lib/python3.10/dist-packages (from dvc) (0.40.2)\n",
            "Requirement already satisfied: flatten-dict<1,>=0.4.1 in /usr/local/lib/python3.10/dist-packages (from dvc) (0.4.2)\n",
            "Requirement already satisfied: flufl.lock<9,>=8.1.0 in /usr/local/lib/python3.10/dist-packages (from dvc) (8.1.0)\n",
            "Requirement already satisfied: fsspec>=2024.2.0 in /usr/local/lib/python3.10/dist-packages (from dvc) (2024.6.1)\n",
            "Requirement already satisfied: funcy>=1.14 in /usr/local/lib/python3.10/dist-packages (from dvc) (2.0)\n",
            "Requirement already satisfied: grandalf<1,>=0.7 in /usr/local/lib/python3.10/dist-packages (from dvc) (0.8)\n",
            "Requirement already satisfied: gto<2,>=1.6.0 in /usr/local/lib/python3.10/dist-packages (from dvc) (1.7.1)\n",
            "Requirement already satisfied: hydra-core>=1.1 in /usr/local/lib/python3.10/dist-packages (from dvc) (1.3.2)\n",
            "Requirement already satisfied: iterative-telemetry>=0.0.7 in /usr/local/lib/python3.10/dist-packages (from dvc) (0.0.9)\n",
            "Requirement already satisfied: kombu in /usr/local/lib/python3.10/dist-packages (from dvc) (5.4.2)\n",
            "Requirement already satisfied: networkx>=2.5 in /usr/local/lib/python3.10/dist-packages (from dvc) (3.4)\n",
            "Requirement already satisfied: omegaconf in /usr/local/lib/python3.10/dist-packages (from dvc) (2.3.0)\n",
            "Requirement already satisfied: packaging>=19 in /usr/local/lib/python3.10/dist-packages (from dvc) (24.1)\n",
            "Requirement already satisfied: pathspec>=0.10.3 in /usr/local/lib/python3.10/dist-packages (from dvc) (0.12.1)\n",
            "Requirement already satisfied: platformdirs<4,>=3.1.1 in /usr/local/lib/python3.10/dist-packages (from dvc) (3.11.0)\n",
            "Requirement already satisfied: psutil>=5.8 in /usr/local/lib/python3.10/dist-packages (from dvc) (5.9.5)\n",
            "Requirement already satisfied: pydot>=1.2.4 in /usr/local/lib/python3.10/dist-packages (from dvc) (3.0.2)\n",
            "Requirement already satisfied: pygtrie>=2.3.2 in /usr/local/lib/python3.10/dist-packages (from dvc) (2.5.0)\n",
            "Requirement already satisfied: pyparsing>=2.4.7 in /usr/local/lib/python3.10/dist-packages (from dvc) (3.1.4)\n",
            "Requirement already satisfied: requests>=2.22 in /usr/local/lib/python3.10/dist-packages (from dvc) (2.32.3)\n",
            "Requirement already satisfied: rich>=12 in /usr/local/lib/python3.10/dist-packages (from dvc) (13.9.2)\n",
            "Requirement already satisfied: ruamel.yaml>=0.17.11 in /usr/local/lib/python3.10/dist-packages (from dvc) (0.18.6)\n",
            "Requirement already satisfied: scmrepo<4,>=3.3.4 in /usr/local/lib/python3.10/dist-packages (from dvc) (3.3.8)\n",
            "Requirement already satisfied: shortuuid>=0.5 in /usr/local/lib/python3.10/dist-packages (from dvc) (1.0.13)\n",
            "Requirement already satisfied: shtab<2,>=1.3.4 in /usr/local/lib/python3.10/dist-packages (from dvc) (1.7.1)\n",
            "Requirement already satisfied: tabulate>=0.8.7 in /usr/local/lib/python3.10/dist-packages (from dvc) (0.9.0)\n",
            "Requirement already satisfied: tomlkit>=0.11.1 in /usr/local/lib/python3.10/dist-packages (from dvc) (0.13.2)\n",
            "Requirement already satisfied: tqdm<5,>=4.63.1 in /usr/local/lib/python3.10/dist-packages (from dvc) (4.66.5)\n",
            "Requirement already satisfied: voluptuous>=0.11.7 in /usr/local/lib/python3.10/dist-packages (from dvc) (0.15.2)\n",
            "Requirement already satisfied: zc.lockfile>=1.2.1 in /usr/local/lib/python3.10/dist-packages (from dvc) (3.0.post1)\n",
            "Requirement already satisfied: gcsfs>=2022.11.0 in /usr/local/lib/python3.10/dist-packages (from dvc-gs) (2024.6.1)\n",
            "Requirement already satisfied: dictdiffer>=0.8.1 in /usr/local/lib/python3.10/dist-packages (from dvc-data<3.17,>=3.16.2->dvc) (0.9.0)\n",
            "Requirement already satisfied: diskcache>=5.2.1 in /usr/local/lib/python3.10/dist-packages (from dvc-data<3.17,>=3.16.2->dvc) (5.6.3)\n",
            "Requirement already satisfied: sqltrie<1,>=0.11.0 in /usr/local/lib/python3.10/dist-packages (from dvc-data<3.17,>=3.16.2->dvc) (0.11.1)\n",
            "Requirement already satisfied: orjson<4,>=3 in /usr/local/lib/python3.10/dist-packages (from dvc-data<3.17,>=3.16.2->dvc) (3.10.7)\n",
            "Requirement already satisfied: aiohttp-retry>=2.5.0 in /usr/local/lib/python3.10/dist-packages (from dvc-http>=2.29.0->dvc) (2.8.3)\n",
            "Requirement already satisfied: billiard<5.0,>=4.2.0 in /usr/local/lib/python3.10/dist-packages (from celery->dvc) (4.2.1)\n",
            "Requirement already satisfied: vine<6.0,>=5.1.0 in /usr/local/lib/python3.10/dist-packages (from celery->dvc) (5.1.0)\n",
            "Requirement already satisfied: click<9.0,>=8.1.2 in /usr/local/lib/python3.10/dist-packages (from celery->dvc) (8.1.7)\n",
            "Requirement already satisfied: click-didyoumean>=0.3.0 in /usr/local/lib/python3.10/dist-packages (from celery->dvc) (0.3.1)\n",
            "Requirement already satisfied: click-repl>=0.2.0 in /usr/local/lib/python3.10/dist-packages (from celery->dvc) (0.3.0)\n",
            "Requirement already satisfied: click-plugins>=1.1.1 in /usr/local/lib/python3.10/dist-packages (from celery->dvc) (1.1.1)\n",
            "Requirement already satisfied: tzdata>=2022.7 in /usr/local/lib/python3.10/dist-packages (from celery->dvc) (2024.2)\n",
            "Requirement already satisfied: python-dateutil>=2.8.2 in /usr/local/lib/python3.10/dist-packages (from celery->dvc) (2.8.2)\n",
            "Requirement already satisfied: six<2.0,>=1.12 in /usr/local/lib/python3.10/dist-packages (from flatten-dict<1,>=0.4.1->dvc) (1.16.0)\n",
            "Requirement already satisfied: atpublic in /usr/local/lib/python3.10/dist-packages (from flufl.lock<9,>=8.1.0->dvc) (4.1.0)\n",
            "Requirement already satisfied: aiohttp!=4.0.0a0,!=4.0.0a1 in /usr/local/lib/python3.10/dist-packages (from gcsfs>=2022.11.0->dvc-gs) (3.10.10)\n",
            "Requirement already satisfied: decorator>4.1.2 in /usr/local/lib/python3.10/dist-packages (from gcsfs>=2022.11.0->dvc-gs) (4.4.2)\n",
            "Requirement already satisfied: google-auth>=1.2 in /usr/local/lib/python3.10/dist-packages (from gcsfs>=2022.11.0->dvc-gs) (2.27.0)\n",
            "Requirement already satisfied: google-auth-oauthlib in /usr/local/lib/python3.10/dist-packages (from gcsfs>=2022.11.0->dvc-gs) (1.2.1)\n",
            "Requirement already satisfied: google-cloud-storage in /usr/local/lib/python3.10/dist-packages (from gcsfs>=2022.11.0->dvc-gs) (2.8.0)\n",
            "Requirement already satisfied: typer>=0.4.1 in /usr/local/lib/python3.10/dist-packages (from gto<2,>=1.6.0->dvc) (0.12.5)\n",
            "Requirement already satisfied: pydantic!=2.0.0,<3,>=1.9.0 in /usr/local/lib/python3.10/dist-packages (from gto<2,>=1.6.0->dvc) (2.9.2)\n",
            "Requirement already satisfied: semver>=2.13.0 in /usr/local/lib/python3.10/dist-packages (from gto<2,>=1.6.0->dvc) (3.0.2)\n",
            "Requirement already satisfied: entrypoints in /usr/local/lib/python3.10/dist-packages (from gto<2,>=1.6.0->dvc) (0.4)\n",
            "Requirement already satisfied: antlr4-python3-runtime==4.9.* in /usr/local/lib/python3.10/dist-packages (from hydra-core>=1.1->dvc) (4.9.3)\n",
            "Requirement already satisfied: appdirs in /usr/local/lib/python3.10/dist-packages (from iterative-telemetry>=0.0.7->dvc) (1.4.4)\n",
            "Requirement already satisfied: filelock in /usr/local/lib/python3.10/dist-packages (from iterative-telemetry>=0.0.7->dvc) (3.16.1)\n",
            "Requirement already satisfied: amqp<6.0.0,>=5.1.1 in /usr/local/lib/python3.10/dist-packages (from kombu->dvc) (5.2.0)\n",
            "Requirement already satisfied: PyYAML>=5.1.0 in /usr/local/lib/python3.10/dist-packages (from omegaconf->dvc) (6.0.2)\n",
            "Requirement already satisfied: charset-normalizer<4,>=2 in /usr/local/lib/python3.10/dist-packages (from requests>=2.22->dvc) (3.4.0)\n",
            "Requirement already satisfied: idna<4,>=2.5 in /usr/local/lib/python3.10/dist-packages (from requests>=2.22->dvc) (3.10)\n",
            "Requirement already satisfied: urllib3<3,>=1.21.1 in /usr/local/lib/python3.10/dist-packages (from requests>=2.22->dvc) (2.2.3)\n",
            "Requirement already satisfied: certifi>=2017.4.17 in /usr/local/lib/python3.10/dist-packages (from requests>=2.22->dvc) (2024.8.30)\n",
            "Requirement already satisfied: markdown-it-py>=2.2.0 in /usr/local/lib/python3.10/dist-packages (from rich>=12->dvc) (3.0.0)\n",
            "Requirement already satisfied: pygments<3.0.0,>=2.13.0 in /usr/local/lib/python3.10/dist-packages (from rich>=12->dvc) (2.18.0)\n",
            "Requirement already satisfied: typing-extensions<5.0,>=4.0.0 in /usr/local/lib/python3.10/dist-packages (from rich>=12->dvc) (4.12.2)\n",
            "Requirement already satisfied: ruamel.yaml.clib>=0.2.7 in /usr/local/lib/python3.10/dist-packages (from ruamel.yaml>=0.17.11->dvc) (0.2.8)\n",
            "Requirement already satisfied: gitpython>3 in /usr/local/lib/python3.10/dist-packages (from scmrepo<4,>=3.3.4->dvc) (3.1.43)\n",
            "Requirement already satisfied: pygit2>=1.14.0 in /usr/local/lib/python3.10/dist-packages (from scmrepo<4,>=3.3.4->dvc) (1.16.0)\n",
            "Requirement already satisfied: asyncssh<3,>=2.13.1 in /usr/local/lib/python3.10/dist-packages (from scmrepo<4,>=3.3.4->dvc) (2.17.0)\n",
            "Requirement already satisfied: setuptools in /usr/local/lib/python3.10/dist-packages (from zc.lockfile>=1.2.1->dvc) (71.0.4)\n",
            "Requirement already satisfied: aiohappyeyeballs>=2.3.0 in /usr/local/lib/python3.10/dist-packages (from aiohttp!=4.0.0a0,!=4.0.0a1->gcsfs>=2022.11.0->dvc-gs) (2.4.3)\n",
            "Requirement already satisfied: aiosignal>=1.1.2 in /usr/local/lib/python3.10/dist-packages (from aiohttp!=4.0.0a0,!=4.0.0a1->gcsfs>=2022.11.0->dvc-gs) (1.3.1)\n",
            "Requirement already satisfied: frozenlist>=1.1.1 in /usr/local/lib/python3.10/dist-packages (from aiohttp!=4.0.0a0,!=4.0.0a1->gcsfs>=2022.11.0->dvc-gs) (1.4.1)\n",
            "Requirement already satisfied: multidict<7.0,>=4.5 in /usr/local/lib/python3.10/dist-packages (from aiohttp!=4.0.0a0,!=4.0.0a1->gcsfs>=2022.11.0->dvc-gs) (6.1.0)\n",
            "Requirement already satisfied: yarl<2.0,>=1.12.0 in /usr/local/lib/python3.10/dist-packages (from aiohttp!=4.0.0a0,!=4.0.0a1->gcsfs>=2022.11.0->dvc-gs) (1.14.0)\n",
            "Requirement already satisfied: async-timeout<5.0,>=4.0 in /usr/local/lib/python3.10/dist-packages (from aiohttp!=4.0.0a0,!=4.0.0a1->gcsfs>=2022.11.0->dvc-gs) (4.0.3)\n",
            "Requirement already satisfied: cryptography>=39.0 in /usr/local/lib/python3.10/dist-packages (from asyncssh<3,>=2.13.1->scmrepo<4,>=3.3.4->dvc) (43.0.1)\n",
            "Requirement already satisfied: prompt-toolkit>=3.0.36 in /usr/local/lib/python3.10/dist-packages (from click-repl>=0.2.0->celery->dvc) (3.0.48)\n",
            "Requirement already satisfied: gitdb<5,>=4.0.1 in /usr/local/lib/python3.10/dist-packages (from gitpython>3->scmrepo<4,>=3.3.4->dvc) (4.0.11)\n",
            "Requirement already satisfied: cachetools<6.0,>=2.0.0 in /usr/local/lib/python3.10/dist-packages (from google-auth>=1.2->gcsfs>=2022.11.0->dvc-gs) (5.5.0)\n",
            "Requirement already satisfied: pyasn1-modules>=0.2.1 in /usr/local/lib/python3.10/dist-packages (from google-auth>=1.2->gcsfs>=2022.11.0->dvc-gs) (0.4.1)\n",
            "Requirement already satisfied: rsa<5,>=3.1.4 in /usr/local/lib/python3.10/dist-packages (from google-auth>=1.2->gcsfs>=2022.11.0->dvc-gs) (4.9)\n",
            "Requirement already satisfied: mdurl~=0.1 in /usr/local/lib/python3.10/dist-packages (from markdown-it-py>=2.2.0->rich>=12->dvc) (0.1.2)\n",
            "Requirement already satisfied: annotated-types>=0.6.0 in /usr/local/lib/python3.10/dist-packages (from pydantic!=2.0.0,<3,>=1.9.0->gto<2,>=1.6.0->dvc) (0.7.0)\n",
            "Requirement already satisfied: pydantic-core==2.23.4 in /usr/local/lib/python3.10/dist-packages (from pydantic!=2.0.0,<3,>=1.9.0->gto<2,>=1.6.0->dvc) (2.23.4)\n",
            "Requirement already satisfied: cffi>=1.17.0 in /usr/local/lib/python3.10/dist-packages (from pygit2>=1.14.0->scmrepo<4,>=3.3.4->dvc) (1.17.1)\n",
            "Requirement already satisfied: shellingham>=1.3.0 in /usr/local/lib/python3.10/dist-packages (from typer>=0.4.1->gto<2,>=1.6.0->dvc) (1.5.4)\n",
            "Requirement already satisfied: requests-oauthlib>=0.7.0 in /usr/local/lib/python3.10/dist-packages (from google-auth-oauthlib->gcsfs>=2022.11.0->dvc-gs) (1.3.1)\n",
            "Requirement already satisfied: google-api-core!=2.0.*,!=2.1.*,!=2.2.*,!=2.3.0,<3.0.0dev,>=1.31.5 in /usr/local/lib/python3.10/dist-packages (from google-cloud-storage->gcsfs>=2022.11.0->dvc-gs) (2.19.2)\n",
            "Requirement already satisfied: google-cloud-core<3.0dev,>=2.3.0 in /usr/local/lib/python3.10/dist-packages (from google-cloud-storage->gcsfs>=2022.11.0->dvc-gs) (2.4.1)\n",
            "Requirement already satisfied: google-resumable-media>=2.3.2 in /usr/local/lib/python3.10/dist-packages (from google-cloud-storage->gcsfs>=2022.11.0->dvc-gs) (2.7.2)\n",
            "Requirement already satisfied: pycparser in /usr/local/lib/python3.10/dist-packages (from cffi>=1.17.0->pygit2>=1.14.0->scmrepo<4,>=3.3.4->dvc) (2.22)\n",
            "Requirement already satisfied: smmap<6,>=3.0.1 in /usr/local/lib/python3.10/dist-packages (from gitdb<5,>=4.0.1->gitpython>3->scmrepo<4,>=3.3.4->dvc) (5.0.1)\n",
            "Requirement already satisfied: googleapis-common-protos<2.0.dev0,>=1.56.2 in /usr/local/lib/python3.10/dist-packages (from google-api-core!=2.0.*,!=2.1.*,!=2.2.*,!=2.3.0,<3.0.0dev,>=1.31.5->google-cloud-storage->gcsfs>=2022.11.0->dvc-gs) (1.65.0)\n",
            "Requirement already satisfied: protobuf!=3.20.0,!=3.20.1,!=4.21.0,!=4.21.1,!=4.21.2,!=4.21.3,!=4.21.4,!=4.21.5,<6.0.0.dev0,>=3.19.5 in /usr/local/lib/python3.10/dist-packages (from google-api-core!=2.0.*,!=2.1.*,!=2.2.*,!=2.3.0,<3.0.0dev,>=1.31.5->google-cloud-storage->gcsfs>=2022.11.0->dvc-gs) (3.20.3)\n",
            "Requirement already satisfied: proto-plus<2.0.0dev,>=1.22.3 in /usr/local/lib/python3.10/dist-packages (from google-api-core!=2.0.*,!=2.1.*,!=2.2.*,!=2.3.0,<3.0.0dev,>=1.31.5->google-cloud-storage->gcsfs>=2022.11.0->dvc-gs) (1.24.0)\n",
            "Requirement already satisfied: google-crc32c<2.0dev,>=1.0 in /usr/local/lib/python3.10/dist-packages (from google-resumable-media>=2.3.2->google-cloud-storage->gcsfs>=2022.11.0->dvc-gs) (1.6.0)\n",
            "Requirement already satisfied: wcwidth in /usr/local/lib/python3.10/dist-packages (from prompt-toolkit>=3.0.36->click-repl>=0.2.0->celery->dvc) (0.2.13)\n",
            "Requirement already satisfied: pyasn1<0.7.0,>=0.4.6 in /usr/local/lib/python3.10/dist-packages (from pyasn1-modules>=0.2.1->google-auth>=1.2->gcsfs>=2022.11.0->dvc-gs) (0.6.1)\n",
            "Requirement already satisfied: oauthlib>=3.0.0 in /usr/local/lib/python3.10/dist-packages (from requests-oauthlib>=0.7.0->google-auth-oauthlib->gcsfs>=2022.11.0->dvc-gs) (3.2.2)\n",
            "Requirement already satisfied: propcache>=0.2.0 in /usr/local/lib/python3.10/dist-packages (from yarl<2.0,>=1.12.0->aiohttp!=4.0.0a0,!=4.0.0a1->gcsfs>=2022.11.0->dvc-gs) (0.2.0)\n"
          ]
        }
      ]
    },
    {
      "cell_type": "markdown",
      "metadata": {
        "id": "xsHQIdyQHAkV"
      },
      "source": [
        "**Imports**"
      ]
    },
    {
      "cell_type": "code",
      "metadata": {
        "id": "dB7OG0AQAlha"
      },
      "source": [
        "import os\n",
        "import cv2\n",
        "import numpy as np\n",
        "import pandas as pd\n",
        "\n",
        "# Colab auth\n",
        "from google.colab import auth\n",
        "from google.cloud import storage"
      ],
      "execution_count": 2,
      "outputs": []
    },
    {
      "cell_type": "markdown",
      "source": [
        "## **<font color=\"#A41034\">Authenticate</font>**\n",
        "\n",
        "Here we authenticate your Google account that has access to your GCS bucket"
      ],
      "metadata": {
        "id": "7Bk87FITOYFj"
      }
    },
    {
      "cell_type": "code",
      "source": [
        "# This step is required for DVC in colab to access your Bucket\n",
        "auth.authenticate_user()"
      ],
      "metadata": {
        "id": "Xv-fiYJYEKY3"
      },
      "execution_count": 3,
      "outputs": []
    },
    {
      "cell_type": "markdown",
      "source": [
        "## **View Remote Data**\n",
        "\n",
        "To view a DVC repository, listing data files and directories tracked by DVC alongside the remaining Git repo contents.\n",
        "\n",
        "[dvc list reference](https://dvc.org/doc/command-reference/list)"
      ],
      "metadata": {
        "id": "y3nkG0F1KABD"
      }
    },
    {
      "cell_type": "code",
      "source": [
        "# Replace github url with your url\n",
        "!dvc list -R https://github.com/BerkeAltiparmak-harvard/data-versioning-tut"
      ],
      "metadata": {
        "id": "_Gu5fiPIKEtT",
        "colab": {
          "base_uri": "https://localhost:8080/"
        },
        "outputId": "e3822470-1141-4494-93c4-58fe6d722da2"
      },
      "execution_count": 4,
      "outputs": [
        {
          "output_type": "stream",
          "name": "stdout",
          "text": [
            ".dvcignore\n",
            ".gitignore\n",
            "\u001b[01;32mDockerfile\u001b[0m\n",
            "\u001b[01;32mPipfile\u001b[0m\n",
            "Pipfile.lock\n",
            "README.md\n",
            "cheese_dataset.dvc\n",
            "cheese_dataset/marathon-training_novice-1-marathon_.csv\n",
            "docker-entrypoint.sh\n",
            "\u001b[01;32mdocker-shell.sh\u001b[0m\n",
            "\u001b[0m"
          ]
        }
      ]
    },
    {
      "cell_type": "markdown",
      "source": [
        "## **Retrieving Data**\n",
        "\n",
        "Once DVC-tracked data are stored remotely, they can be downloaded with dvc get when needed.\n",
        "\n",
        "[dvc get reference](https://dvc.org/doc/command-reference/get)"
      ],
      "metadata": {
        "id": "eh5rjlLbNBar"
      }
    },
    {
      "cell_type": "code",
      "source": [
        "!rm -rf cheese_dataset\n",
        "!dvc get https://github.com/BerkeAltiparmak-harvard/data-versioning-tut cheese_dataset --force --rev dataset_v20"
      ],
      "metadata": {
        "id": "dZ36ndRIoBs3",
        "colab": {
          "base_uri": "https://localhost:8080/"
        },
        "outputId": "583054d6-bae6-4c73-d326-0da66a02c39c"
      },
      "execution_count": 5,
      "outputs": [
        {
          "output_type": "stream",
          "name": "stdout",
          "text": [
            "\u001b[0m"
          ]
        }
      ]
    },
    {
      "cell_type": "code",
      "source": [
        "# Check the dataset\n",
        "print(\"Number of items:\",len(os.listdir(\"cheese_dataset\")))"
      ],
      "metadata": {
        "id": "J0gEJcGhxG0-",
        "colab": {
          "base_uri": "https://localhost:8080/"
        },
        "outputId": "2f4f41e1-2201-4f7f-a67a-65c0b179bc57"
      },
      "execution_count": 6,
      "outputs": [
        {
          "output_type": "stream",
          "name": "stdout",
          "text": [
            "Number of items: 0\n"
          ]
        }
      ]
    },
    {
      "cell_type": "markdown",
      "source": [
        "## **Retrieve a different data version**"
      ],
      "metadata": {
        "id": "3b31trYczvCo"
      }
    },
    {
      "cell_type": "code",
      "source": [
        "!rm -rf cheese_dataset\n",
        "!dvc get https://github.com/BerkeAltiparmak-harvard/data-versioning-tut cheese_dataset --force --quiet --rev dataset_v21"
      ],
      "metadata": {
        "id": "VXjQIb7JmsvG",
        "colab": {
          "base_uri": "https://localhost:8080/"
        },
        "outputId": "f7590ff8-9bb9-4efb-e7f0-c952e198b6fc"
      },
      "execution_count": 12,
      "outputs": [
        {
          "output_type": "stream",
          "name": "stdout",
          "text": [
            "\u001b[0m"
          ]
        }
      ]
    },
    {
      "cell_type": "code",
      "source": [
        "# Check the dataset\n",
        "print(\"Number of items:\",len(os.listdir(\"cheese_dataset\")))"
      ],
      "metadata": {
        "id": "J_xaCjT0w6Hd",
        "colab": {
          "base_uri": "https://localhost:8080/"
        },
        "outputId": "591c926a-795d-48ba-b3e5-e06ca5482551"
      },
      "execution_count": 13,
      "outputs": [
        {
          "output_type": "stream",
          "name": "stdout",
          "text": [
            "Number of items: 1\n"
          ]
        }
      ]
    },
    {
      "cell_type": "code",
      "source": [
        "import pandas as pd\n",
        "\n",
        "folder = \"cheese_dataset\"\n",
        "for item in os.listdir(folder):\n",
        "    file_path = os.path.join(folder, item)\n",
        "    print(file_path)\n",
        "    df = pd.read_csv(file_path)\n",
        "    print(df.head())\n"
      ],
      "metadata": {
        "id": "BcE3zF16r914",
        "outputId": "42589392-f78e-4096-e73b-8ac2491e6d10",
        "colab": {
          "base_uri": "https://localhost:8080/"
        }
      },
      "execution_count": 24,
      "outputs": [
        {
          "output_type": "stream",
          "name": "stdout",
          "text": [
            "cheese_dataset/marathon-training_novice-1-marathon_.csv\n",
            "   Week   Mon       Tue       Wed       Thu   Fri Sat    Sun\n",
            "0     1  Rest  3 mi run  3 mi run  3 mi run  Rest   6  Cross\n",
            "1     2  Rest  3 mi run  3 mi run  3 mi run  Rest   7  Cross\n",
            "2     3  Rest  3 mi run  4 mi run  3 mi run  Rest   5  Cross\n",
            "3     4  Rest  3 mi run  4 mi run  3 mi run  Rest   9  Cross\n",
            "4     5  Rest  3 mi run  5 mi run  3 mi run  Rest  10  Cross\n"
          ]
        }
      ]
    },
    {
      "cell_type": "code",
      "source": [
        "file_path = os.path.join(\"cheese_dataset\", \"marathon-training_novice-1-marathon_.csv\")\n",
        "print(file_path)\n",
        "df = pd.read_csv(file_path)\n",
        "df.head()"
      ],
      "metadata": {
        "id": "FZky4lV9h256",
        "outputId": "676e3914-c802-4a63-813c-34602d273a2a",
        "colab": {
          "base_uri": "https://localhost:8080/",
          "height": 224
        }
      },
      "execution_count": 23,
      "outputs": [
        {
          "output_type": "stream",
          "name": "stdout",
          "text": [
            "cheese_dataset/marathon-training_novice-1-marathon_.csv\n"
          ]
        },
        {
          "output_type": "execute_result",
          "data": {
            "text/plain": [
              "   Week   Mon       Tue       Wed       Thu   Fri Sat    Sun\n",
              "0     1  Rest  3 mi run  3 mi run  3 mi run  Rest   6  Cross\n",
              "1     2  Rest  3 mi run  3 mi run  3 mi run  Rest   7  Cross\n",
              "2     3  Rest  3 mi run  4 mi run  3 mi run  Rest   5  Cross\n",
              "3     4  Rest  3 mi run  4 mi run  3 mi run  Rest   9  Cross\n",
              "4     5  Rest  3 mi run  5 mi run  3 mi run  Rest  10  Cross"
            ],
            "text/html": [
              "\n",
              "  <div id=\"df-dbd5d205-e40f-49ce-a4ca-51587a1826c3\" class=\"colab-df-container\">\n",
              "    <div>\n",
              "<style scoped>\n",
              "    .dataframe tbody tr th:only-of-type {\n",
              "        vertical-align: middle;\n",
              "    }\n",
              "\n",
              "    .dataframe tbody tr th {\n",
              "        vertical-align: top;\n",
              "    }\n",
              "\n",
              "    .dataframe thead th {\n",
              "        text-align: right;\n",
              "    }\n",
              "</style>\n",
              "<table border=\"1\" class=\"dataframe\">\n",
              "  <thead>\n",
              "    <tr style=\"text-align: right;\">\n",
              "      <th></th>\n",
              "      <th>Week</th>\n",
              "      <th>Mon</th>\n",
              "      <th>Tue</th>\n",
              "      <th>Wed</th>\n",
              "      <th>Thu</th>\n",
              "      <th>Fri</th>\n",
              "      <th>Sat</th>\n",
              "      <th>Sun</th>\n",
              "    </tr>\n",
              "  </thead>\n",
              "  <tbody>\n",
              "    <tr>\n",
              "      <th>0</th>\n",
              "      <td>1</td>\n",
              "      <td>Rest</td>\n",
              "      <td>3 mi run</td>\n",
              "      <td>3 mi run</td>\n",
              "      <td>3 mi run</td>\n",
              "      <td>Rest</td>\n",
              "      <td>6</td>\n",
              "      <td>Cross</td>\n",
              "    </tr>\n",
              "    <tr>\n",
              "      <th>1</th>\n",
              "      <td>2</td>\n",
              "      <td>Rest</td>\n",
              "      <td>3 mi run</td>\n",
              "      <td>3 mi run</td>\n",
              "      <td>3 mi run</td>\n",
              "      <td>Rest</td>\n",
              "      <td>7</td>\n",
              "      <td>Cross</td>\n",
              "    </tr>\n",
              "    <tr>\n",
              "      <th>2</th>\n",
              "      <td>3</td>\n",
              "      <td>Rest</td>\n",
              "      <td>3 mi run</td>\n",
              "      <td>4 mi run</td>\n",
              "      <td>3 mi run</td>\n",
              "      <td>Rest</td>\n",
              "      <td>5</td>\n",
              "      <td>Cross</td>\n",
              "    </tr>\n",
              "    <tr>\n",
              "      <th>3</th>\n",
              "      <td>4</td>\n",
              "      <td>Rest</td>\n",
              "      <td>3 mi run</td>\n",
              "      <td>4 mi run</td>\n",
              "      <td>3 mi run</td>\n",
              "      <td>Rest</td>\n",
              "      <td>9</td>\n",
              "      <td>Cross</td>\n",
              "    </tr>\n",
              "    <tr>\n",
              "      <th>4</th>\n",
              "      <td>5</td>\n",
              "      <td>Rest</td>\n",
              "      <td>3 mi run</td>\n",
              "      <td>5 mi run</td>\n",
              "      <td>3 mi run</td>\n",
              "      <td>Rest</td>\n",
              "      <td>10</td>\n",
              "      <td>Cross</td>\n",
              "    </tr>\n",
              "  </tbody>\n",
              "</table>\n",
              "</div>\n",
              "    <div class=\"colab-df-buttons\">\n",
              "\n",
              "  <div class=\"colab-df-container\">\n",
              "    <button class=\"colab-df-convert\" onclick=\"convertToInteractive('df-dbd5d205-e40f-49ce-a4ca-51587a1826c3')\"\n",
              "            title=\"Convert this dataframe to an interactive table.\"\n",
              "            style=\"display:none;\">\n",
              "\n",
              "  <svg xmlns=\"http://www.w3.org/2000/svg\" height=\"24px\" viewBox=\"0 -960 960 960\">\n",
              "    <path d=\"M120-120v-720h720v720H120Zm60-500h600v-160H180v160Zm220 220h160v-160H400v160Zm0 220h160v-160H400v160ZM180-400h160v-160H180v160Zm440 0h160v-160H620v160ZM180-180h160v-160H180v160Zm440 0h160v-160H620v160Z\"/>\n",
              "  </svg>\n",
              "    </button>\n",
              "\n",
              "  <style>\n",
              "    .colab-df-container {\n",
              "      display:flex;\n",
              "      gap: 12px;\n",
              "    }\n",
              "\n",
              "    .colab-df-convert {\n",
              "      background-color: #E8F0FE;\n",
              "      border: none;\n",
              "      border-radius: 50%;\n",
              "      cursor: pointer;\n",
              "      display: none;\n",
              "      fill: #1967D2;\n",
              "      height: 32px;\n",
              "      padding: 0 0 0 0;\n",
              "      width: 32px;\n",
              "    }\n",
              "\n",
              "    .colab-df-convert:hover {\n",
              "      background-color: #E2EBFA;\n",
              "      box-shadow: 0px 1px 2px rgba(60, 64, 67, 0.3), 0px 1px 3px 1px rgba(60, 64, 67, 0.15);\n",
              "      fill: #174EA6;\n",
              "    }\n",
              "\n",
              "    .colab-df-buttons div {\n",
              "      margin-bottom: 4px;\n",
              "    }\n",
              "\n",
              "    [theme=dark] .colab-df-convert {\n",
              "      background-color: #3B4455;\n",
              "      fill: #D2E3FC;\n",
              "    }\n",
              "\n",
              "    [theme=dark] .colab-df-convert:hover {\n",
              "      background-color: #434B5C;\n",
              "      box-shadow: 0px 1px 3px 1px rgba(0, 0, 0, 0.15);\n",
              "      filter: drop-shadow(0px 1px 2px rgba(0, 0, 0, 0.3));\n",
              "      fill: #FFFFFF;\n",
              "    }\n",
              "  </style>\n",
              "\n",
              "    <script>\n",
              "      const buttonEl =\n",
              "        document.querySelector('#df-dbd5d205-e40f-49ce-a4ca-51587a1826c3 button.colab-df-convert');\n",
              "      buttonEl.style.display =\n",
              "        google.colab.kernel.accessAllowed ? 'block' : 'none';\n",
              "\n",
              "      async function convertToInteractive(key) {\n",
              "        const element = document.querySelector('#df-dbd5d205-e40f-49ce-a4ca-51587a1826c3');\n",
              "        const dataTable =\n",
              "          await google.colab.kernel.invokeFunction('convertToInteractive',\n",
              "                                                    [key], {});\n",
              "        if (!dataTable) return;\n",
              "\n",
              "        const docLinkHtml = 'Like what you see? Visit the ' +\n",
              "          '<a target=\"_blank\" href=https://colab.research.google.com/notebooks/data_table.ipynb>data table notebook</a>'\n",
              "          + ' to learn more about interactive tables.';\n",
              "        element.innerHTML = '';\n",
              "        dataTable['output_type'] = 'display_data';\n",
              "        await google.colab.output.renderOutput(dataTable, element);\n",
              "        const docLink = document.createElement('div');\n",
              "        docLink.innerHTML = docLinkHtml;\n",
              "        element.appendChild(docLink);\n",
              "      }\n",
              "    </script>\n",
              "  </div>\n",
              "\n",
              "\n",
              "<div id=\"df-abccbdb3-efc2-486e-87b4-ba1ca35b494e\">\n",
              "  <button class=\"colab-df-quickchart\" onclick=\"quickchart('df-abccbdb3-efc2-486e-87b4-ba1ca35b494e')\"\n",
              "            title=\"Suggest charts\"\n",
              "            style=\"display:none;\">\n",
              "\n",
              "<svg xmlns=\"http://www.w3.org/2000/svg\" height=\"24px\"viewBox=\"0 0 24 24\"\n",
              "     width=\"24px\">\n",
              "    <g>\n",
              "        <path d=\"M19 3H5c-1.1 0-2 .9-2 2v14c0 1.1.9 2 2 2h14c1.1 0 2-.9 2-2V5c0-1.1-.9-2-2-2zM9 17H7v-7h2v7zm4 0h-2V7h2v10zm4 0h-2v-4h2v4z\"/>\n",
              "    </g>\n",
              "</svg>\n",
              "  </button>\n",
              "\n",
              "<style>\n",
              "  .colab-df-quickchart {\n",
              "      --bg-color: #E8F0FE;\n",
              "      --fill-color: #1967D2;\n",
              "      --hover-bg-color: #E2EBFA;\n",
              "      --hover-fill-color: #174EA6;\n",
              "      --disabled-fill-color: #AAA;\n",
              "      --disabled-bg-color: #DDD;\n",
              "  }\n",
              "\n",
              "  [theme=dark] .colab-df-quickchart {\n",
              "      --bg-color: #3B4455;\n",
              "      --fill-color: #D2E3FC;\n",
              "      --hover-bg-color: #434B5C;\n",
              "      --hover-fill-color: #FFFFFF;\n",
              "      --disabled-bg-color: #3B4455;\n",
              "      --disabled-fill-color: #666;\n",
              "  }\n",
              "\n",
              "  .colab-df-quickchart {\n",
              "    background-color: var(--bg-color);\n",
              "    border: none;\n",
              "    border-radius: 50%;\n",
              "    cursor: pointer;\n",
              "    display: none;\n",
              "    fill: var(--fill-color);\n",
              "    height: 32px;\n",
              "    padding: 0;\n",
              "    width: 32px;\n",
              "  }\n",
              "\n",
              "  .colab-df-quickchart:hover {\n",
              "    background-color: var(--hover-bg-color);\n",
              "    box-shadow: 0 1px 2px rgba(60, 64, 67, 0.3), 0 1px 3px 1px rgba(60, 64, 67, 0.15);\n",
              "    fill: var(--button-hover-fill-color);\n",
              "  }\n",
              "\n",
              "  .colab-df-quickchart-complete:disabled,\n",
              "  .colab-df-quickchart-complete:disabled:hover {\n",
              "    background-color: var(--disabled-bg-color);\n",
              "    fill: var(--disabled-fill-color);\n",
              "    box-shadow: none;\n",
              "  }\n",
              "\n",
              "  .colab-df-spinner {\n",
              "    border: 2px solid var(--fill-color);\n",
              "    border-color: transparent;\n",
              "    border-bottom-color: var(--fill-color);\n",
              "    animation:\n",
              "      spin 1s steps(1) infinite;\n",
              "  }\n",
              "\n",
              "  @keyframes spin {\n",
              "    0% {\n",
              "      border-color: transparent;\n",
              "      border-bottom-color: var(--fill-color);\n",
              "      border-left-color: var(--fill-color);\n",
              "    }\n",
              "    20% {\n",
              "      border-color: transparent;\n",
              "      border-left-color: var(--fill-color);\n",
              "      border-top-color: var(--fill-color);\n",
              "    }\n",
              "    30% {\n",
              "      border-color: transparent;\n",
              "      border-left-color: var(--fill-color);\n",
              "      border-top-color: var(--fill-color);\n",
              "      border-right-color: var(--fill-color);\n",
              "    }\n",
              "    40% {\n",
              "      border-color: transparent;\n",
              "      border-right-color: var(--fill-color);\n",
              "      border-top-color: var(--fill-color);\n",
              "    }\n",
              "    60% {\n",
              "      border-color: transparent;\n",
              "      border-right-color: var(--fill-color);\n",
              "    }\n",
              "    80% {\n",
              "      border-color: transparent;\n",
              "      border-right-color: var(--fill-color);\n",
              "      border-bottom-color: var(--fill-color);\n",
              "    }\n",
              "    90% {\n",
              "      border-color: transparent;\n",
              "      border-bottom-color: var(--fill-color);\n",
              "    }\n",
              "  }\n",
              "</style>\n",
              "\n",
              "  <script>\n",
              "    async function quickchart(key) {\n",
              "      const quickchartButtonEl =\n",
              "        document.querySelector('#' + key + ' button');\n",
              "      quickchartButtonEl.disabled = true;  // To prevent multiple clicks.\n",
              "      quickchartButtonEl.classList.add('colab-df-spinner');\n",
              "      try {\n",
              "        const charts = await google.colab.kernel.invokeFunction(\n",
              "            'suggestCharts', [key], {});\n",
              "      } catch (error) {\n",
              "        console.error('Error during call to suggestCharts:', error);\n",
              "      }\n",
              "      quickchartButtonEl.classList.remove('colab-df-spinner');\n",
              "      quickchartButtonEl.classList.add('colab-df-quickchart-complete');\n",
              "    }\n",
              "    (() => {\n",
              "      let quickchartButtonEl =\n",
              "        document.querySelector('#df-abccbdb3-efc2-486e-87b4-ba1ca35b494e button');\n",
              "      quickchartButtonEl.style.display =\n",
              "        google.colab.kernel.accessAllowed ? 'block' : 'none';\n",
              "    })();\n",
              "  </script>\n",
              "</div>\n",
              "\n",
              "    </div>\n",
              "  </div>\n"
            ],
            "application/vnd.google.colaboratory.intrinsic+json": {
              "type": "dataframe",
              "variable_name": "df",
              "summary": "{\n  \"name\": \"df\",\n  \"rows\": 18,\n  \"fields\": [\n    {\n      \"column\": \"Week\",\n      \"properties\": {\n        \"dtype\": \"number\",\n        \"std\": 5,\n        \"min\": 1,\n        \"max\": 18,\n        \"num_unique_values\": 18,\n        \"samples\": [\n          1,\n          2,\n          9\n        ],\n        \"semantic_type\": \"\",\n        \"description\": \"\"\n      }\n    },\n    {\n      \"column\": \"Mon\",\n      \"properties\": {\n        \"dtype\": \"category\",\n        \"num_unique_values\": 1,\n        \"samples\": [\n          \"Rest\"\n        ],\n        \"semantic_type\": \"\",\n        \"description\": \"\"\n      }\n    },\n    {\n      \"column\": \"Tue\",\n      \"properties\": {\n        \"dtype\": \"category\",\n        \"num_unique_values\": 3,\n        \"samples\": [\n          \"3 mi run\"\n        ],\n        \"semantic_type\": \"\",\n        \"description\": \"\"\n      }\n    },\n    {\n      \"column\": \"Wed\",\n      \"properties\": {\n        \"dtype\": \"category\",\n        \"num_unique_values\": 8,\n        \"samples\": [\n          \"4 mi run\"\n        ],\n        \"semantic_type\": \"\",\n        \"description\": \"\"\n      }\n    },\n    {\n      \"column\": \"Thu\",\n      \"properties\": {\n        \"dtype\": \"category\",\n        \"num_unique_values\": 4,\n        \"samples\": [\n          \"4 mi run\"\n        ],\n        \"semantic_type\": \"\",\n        \"description\": \"\"\n      }\n    },\n    {\n      \"column\": \"Fri\",\n      \"properties\": {\n        \"dtype\": \"category\",\n        \"num_unique_values\": 1,\n        \"samples\": [\n          \"Rest\"\n        ],\n        \"semantic_type\": \"\",\n        \"description\": \"\"\n      }\n    },\n    {\n      \"column\": \"Sat\",\n      \"properties\": {\n        \"dtype\": \"string\",\n        \"num_unique_values\": 13,\n        \"samples\": [\n          \"20\"\n        ],\n        \"semantic_type\": \"\",\n        \"description\": \"\"\n      }\n    },\n    {\n      \"column\": \"Sun\",\n      \"properties\": {\n        \"dtype\": \"category\",\n        \"num_unique_values\": 3,\n        \"samples\": [\n          \"Cross\"\n        ],\n        \"semantic_type\": \"\",\n        \"description\": \"\"\n      }\n    }\n  ]\n}"
            }
          },
          "metadata": {},
          "execution_count": 23
        }
      ]
    }
  ]
}